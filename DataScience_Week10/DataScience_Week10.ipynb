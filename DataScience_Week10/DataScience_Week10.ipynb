{
 "cells": [
  {
   "cell_type": "code",
   "execution_count": 59,
   "metadata": {},
   "outputs": [],
   "source": [
    "import pandas as pd\n",
    "from math import sqrt\n",
    "import random"
   ]
  },
  {
   "cell_type": "code",
   "execution_count": 60,
   "metadata": {},
   "outputs": [
    {
     "name": "stdout",
     "output_type": "stream",
     "text": [
      "<class 'pandas.core.frame.DataFrame'>\n",
      "RangeIndex: 9742 entries, 0 to 9741\n",
      "Data columns (total 3 columns):\n",
      " #   Column   Non-Null Count  Dtype \n",
      "---  ------   --------------  ----- \n",
      " 0   movieId  9742 non-null   int64 \n",
      " 1   title    9742 non-null   object\n",
      " 2   genres   9742 non-null   object\n",
      "dtypes: int64(1), object(2)\n",
      "memory usage: 228.5+ KB\n",
      "None\n"
     ]
    },
    {
     "name": "stderr",
     "output_type": "stream",
     "text": [
      "C:\\Users\\bryan\\AppData\\Local\\Temp\\ipykernel_7272\\1786508211.py:2: FutureWarning: The default value of regex will change from True to False in a future version.\n",
      "  movies_df['title'] = movies_df['title'].str.replace(r' \\(\\d{4}\\)', '')\n"
     ]
    },
    {
     "data": {
      "text/html": [
       "<div>\n",
       "<style scoped>\n",
       "    .dataframe tbody tr th:only-of-type {\n",
       "        vertical-align: middle;\n",
       "    }\n",
       "\n",
       "    .dataframe tbody tr th {\n",
       "        vertical-align: top;\n",
       "    }\n",
       "\n",
       "    .dataframe thead th {\n",
       "        text-align: right;\n",
       "    }\n",
       "</style>\n",
       "<table border=\"1\" class=\"dataframe\">\n",
       "  <thead>\n",
       "    <tr style=\"text-align: right;\">\n",
       "      <th></th>\n",
       "      <th>movieId</th>\n",
       "      <th>title</th>\n",
       "      <th>genres</th>\n",
       "    </tr>\n",
       "  </thead>\n",
       "  <tbody>\n",
       "    <tr>\n",
       "      <th>0</th>\n",
       "      <td>1</td>\n",
       "      <td>Toy Story</td>\n",
       "      <td>Adventure|Animation|Children|Comedy|Fantasy</td>\n",
       "    </tr>\n",
       "    <tr>\n",
       "      <th>1</th>\n",
       "      <td>2</td>\n",
       "      <td>Jumanji</td>\n",
       "      <td>Adventure|Children|Fantasy</td>\n",
       "    </tr>\n",
       "    <tr>\n",
       "      <th>2</th>\n",
       "      <td>3</td>\n",
       "      <td>Grumpier Old Men</td>\n",
       "      <td>Comedy|Romance</td>\n",
       "    </tr>\n",
       "    <tr>\n",
       "      <th>3</th>\n",
       "      <td>4</td>\n",
       "      <td>Waiting to Exhale</td>\n",
       "      <td>Comedy|Drama|Romance</td>\n",
       "    </tr>\n",
       "    <tr>\n",
       "      <th>4</th>\n",
       "      <td>5</td>\n",
       "      <td>Father of the Bride Part II</td>\n",
       "      <td>Comedy</td>\n",
       "    </tr>\n",
       "  </tbody>\n",
       "</table>\n",
       "</div>"
      ],
      "text/plain": [
       "   movieId                        title  \\\n",
       "0        1                    Toy Story   \n",
       "1        2                      Jumanji   \n",
       "2        3             Grumpier Old Men   \n",
       "3        4            Waiting to Exhale   \n",
       "4        5  Father of the Bride Part II   \n",
       "\n",
       "                                        genres  \n",
       "0  Adventure|Animation|Children|Comedy|Fantasy  \n",
       "1                   Adventure|Children|Fantasy  \n",
       "2                               Comedy|Romance  \n",
       "3                         Comedy|Drama|Romance  \n",
       "4                                       Comedy  "
      ]
     },
     "execution_count": 60,
     "metadata": {},
     "output_type": "execute_result"
    }
   ],
   "source": [
    "movies_df = pd.read_csv('movies.csv')\n",
    "movies_df['title'] = movies_df['title'].str.replace(r' \\(\\d{4}\\)', '')\n",
    "ratings_df = pd.read_csv('ratings.csv')\n",
    "print(movies_df.info())\n",
    "movies_df.head()"
   ]
  },
  {
   "cell_type": "code",
   "execution_count": 61,
   "metadata": {},
   "outputs": [
    {
     "name": "stdout",
     "output_type": "stream",
     "text": [
      "                 title  rating\n",
      "0  Breakfast Club, The       3\n",
      "1            Toy Story       1\n",
      "2              Jumanji       4\n",
      "3         Pulp Fiction       3\n",
      "4                Akira       5\n"
     ]
    }
   ],
   "source": [
    "\n",
    "userInput = [{'title':'Breakfast Club, The', 'rating':random.randint(1, 5)},\n",
    "             {'title':'Toy Story', 'rating':random.randint(1, 5)},\n",
    "             {'title':'Jumanji', 'rating':random.randint(1, 5)},\n",
    "             {'title':'Pulp Fiction', 'rating':random.randint(1, 5)},\n",
    "             {'title':'Akira', 'rating':random.randint(1, 5)}]\n",
    "inputMovies = pd.DataFrame(userInput)\n",
    "print(inputMovies)"
   ]
  },
  {
   "cell_type": "code",
   "execution_count": 62,
   "metadata": {},
   "outputs": [
    {
     "name": "stdout",
     "output_type": "stream",
     "text": [
      "   movieId                title  rating\n",
      "0        1            Toy Story       1\n",
      "1        2              Jumanji       4\n",
      "2      296         Pulp Fiction       3\n",
      "3     1274                Akira       5\n",
      "4     1968  Breakfast Club, The       3\n"
     ]
    }
   ],
   "source": [
    "inputId = movies_df[movies_df['title'].isin(inputMovies['title'].tolist())]\n",
    "inputMovies = pd.merge(inputId, inputMovies)\n",
    "inputMovies = inputMovies[['movieId','title','rating']]\n",
    "print(inputMovies)"
   ]
  },
  {
   "cell_type": "code",
   "execution_count": 63,
   "metadata": {},
   "outputs": [
    {
     "name": "stdout",
     "output_type": "stream",
     "text": [
      "         userId  rating  timestamp\n",
      "movieId                           \n",
      "1           215     215        215\n",
      "2           110     110        110\n",
      "296         307     307        307\n",
      "1274         39      39         39\n",
      "1968        113     113        113\n"
     ]
    }
   ],
   "source": [
    "userSubset = ratings_df[ratings_df['movieId'].isin(inputMovies['movieId'].tolist())]\n",
    "print(userSubset.groupby('movieId').count())"
   ]
  },
  {
   "cell_type": "code",
   "execution_count": 64,
   "metadata": {},
   "outputs": [
    {
     "name": "stdout",
     "output_type": "stream",
     "text": [
      "[(91,        userId  movieId  rating   timestamp\n",
      "14121      91        1     4.0  1112713037\n",
      "14122      91        2     3.0  1112713392\n",
      "14173      91      296     4.5  1112711264\n",
      "14316      91     1274     5.0  1112713057\n",
      "14383      91     1968     3.0  1112713409), (177,        userId  movieId  rating   timestamp\n",
      "24900     177        1     5.0  1435533535\n",
      "24901     177        2     3.5  1435534109\n",
      "24930     177      296     5.0  1435530409\n",
      "25069     177     1274     2.0  1435535036\n",
      "25129     177     1968     3.5  1435534080), (219,        userId  movieId  rating   timestamp\n",
      "31524     219        1     3.5  1194681084\n",
      "31525     219        2     2.5  1194740185\n",
      "31554     219      296     4.0  1198522553\n",
      "31628     219     1274     2.5  1194686351\n",
      "31680     219     1968     3.0  1194931899), (274,        userId  movieId  rating   timestamp\n",
      "39229     274        1     4.0  1171410158\n",
      "39230     274        2     3.5  1171934785\n",
      "39288     274      296     5.0  1171493995\n",
      "39448     274     1274     4.0  1205707621\n",
      "39549     274     1968     4.0  1186729108), (298,        userId  movieId  rating   timestamp\n",
      "44535     298        1     2.0  1447518257\n",
      "44536     298        2     0.5  1450452897\n",
      "44555     298      296     4.5  1447584408\n",
      "44620     298     1274     4.0  1476627223\n",
      "44655     298     1968     3.5  1466277248)]\n"
     ]
    },
    {
     "name": "stderr",
     "output_type": "stream",
     "text": [
      "C:\\Users\\bryan\\AppData\\Local\\Temp\\ipykernel_7272\\2911040200.py:10: FutureWarning: In a future version of pandas, a length 1 tuple will be returned when iterating over a groupby with a grouper equal to a list of length 1. Don't supply a list with a single grouper to avoid this warning.\n",
      "  userSubsetGroup = sorted(userSubsetGroup, key=take_5_elem, reverse=True)\n"
     ]
    }
   ],
   "source": [
    "#Groupby creates several sub dataframes where they all have the same value in the column specified as the parameter\n",
    "userSubsetGroup = userSubset.groupby(['userId'])\n",
    "\n",
    "def take_5_elem(x):\n",
    "    # print (len(x[1]))\n",
    "    return len(x[1])\n",
    "    \n",
    "\n",
    "#Sorting it so users with movie most in common with the input will have priority\n",
    "userSubsetGroup = sorted(userSubsetGroup, key=take_5_elem, reverse=True)\n",
    "\n",
    "userSubsetGroup = userSubsetGroup[0:100]\n",
    "print(userSubsetGroup[0:5])"
   ]
  },
  {
   "cell_type": "code",
   "execution_count": 65,
   "metadata": {},
   "outputs": [
    {
     "name": "stdout",
     "output_type": "stream",
     "text": [
      "   similarityIndex  userId\n",
      "0         0.207289      91\n",
      "1        -0.846114     177\n",
      "2        -0.672214     219\n",
      "3        -0.184637     274\n",
      "4         0.164887     298\n"
     ]
    }
   ],
   "source": [
    "pearsonCorrelationDict = {}\n",
    "\n",
    "for name, group in userSubsetGroup:\n",
    "\n",
    "    group = group.sort_values(by='movieId')\n",
    "    inputMovies = inputMovies.sort_values(by='movieId')\n",
    "\n",
    "    nRatings = len(group)\n",
    "\n",
    "    temp_df = inputMovies[inputMovies['movieId'].isin(group['movieId'].tolist())]\n",
    "\n",
    "    tempRatingList = temp_df['rating'].tolist()\n",
    "   \n",
    "    tempGroupList = group['rating'].tolist()\n",
    "   \n",
    "    Sxx = sum([i**2 for i in tempRatingList]) - pow(sum(tempRatingList),2)/float(nRatings)\n",
    "    Syy = sum([i**2 for i in tempGroupList]) - pow(sum(tempGroupList),2)/float(nRatings)\n",
    "    Sxy = sum( i*j for i, j in zip(tempRatingList, tempGroupList)) - sum(tempRatingList)*sum(tempGroupList)/float(nRatings)\n",
    "\n",
    "    if Sxx != 0 and Syy != 0:\n",
    "        pearsonCorrelationDict[name] = Sxy/sqrt(Sxx*Syy)\n",
    "    else:\n",
    "        pearsonCorrelationDict[name] = 0\n",
    "\n",
    "pearsonDF = pd.DataFrame.from_dict(pearsonCorrelationDict, orient='index')\n",
    "pearsonDF.columns = ['similarityIndex']\n",
    "pearsonDF['userId'] = pearsonDF.index\n",
    "pearsonDF.index = range(len(pearsonDF))\n",
    "print(pearsonDF.head())"
   ]
  },
  {
   "cell_type": "code",
   "execution_count": 66,
   "metadata": {},
   "outputs": [
    {
     "name": "stdout",
     "output_type": "stream",
     "text": [
      "    similarityIndex  userId\n",
      "43         1.000000     132\n",
      "90         1.000000     562\n",
      "65         0.944911     323\n",
      "95         0.944911     604\n",
      "74         0.866025     391\n"
     ]
    }
   ],
   "source": [
    "topUsers=pearsonDF.sort_values(by='similarityIndex', ascending=False)[0:50]\n",
    "print(topUsers.head())"
   ]
  },
  {
   "cell_type": "code",
   "execution_count": 67,
   "metadata": {},
   "outputs": [
    {
     "name": "stdout",
     "output_type": "stream",
     "text": [
      "    similarityIndex  userId  movieId  rating   timestamp\n",
      "0               1.0     132        1     2.0  1157921785\n",
      "1               1.0     132       17     3.0  1157922698\n",
      "2               1.0     132       29     2.0  1157924165\n",
      "3               1.0     132       32     3.0  1329983726\n",
      "4               1.0     132       34     1.5  1157921395\n",
      "..              ...     ...      ...     ...         ...\n",
      "95              1.0     132     1258     4.0  1157919831\n",
      "96              1.0     132     1259     3.0  1157922770\n",
      "97              1.0     132     1270     3.5  1157921202\n",
      "98              1.0     132     1271     3.5  1157923484\n",
      "99              1.0     132     1296     2.5  1157978896\n",
      "\n",
      "[100 rows x 5 columns]\n"
     ]
    }
   ],
   "source": [
    "topUsersRating=topUsers.merge(ratings_df, left_on='userId', right_on='userId', how='inner')\n",
    "print(topUsersRating.head(100))"
   ]
  },
  {
   "cell_type": "code",
   "execution_count": 68,
   "metadata": {},
   "outputs": [
    {
     "name": "stdout",
     "output_type": "stream",
     "text": [
      "   similarityIndex  userId  movieId  rating   timestamp  weightedRating\n",
      "0              1.0     132        1     2.0  1157921785             2.0\n",
      "1              1.0     132       17     3.0  1157922698             3.0\n",
      "2              1.0     132       29     2.0  1157924165             2.0\n",
      "3              1.0     132       32     3.0  1329983726             3.0\n",
      "4              1.0     132       34     1.5  1157921395             1.5\n"
     ]
    }
   ],
   "source": [
    "topUsersRating['weightedRating'] = topUsersRating['similarityIndex']*topUsersRating['rating']\n",
    "print(topUsersRating.head())"
   ]
  },
  {
   "cell_type": "code",
   "execution_count": 69,
   "metadata": {},
   "outputs": [
    {
     "name": "stdout",
     "output_type": "stream",
     "text": [
      "         sum_similarityIndex  sum_weightedRating\n",
      "movieId                                         \n",
      "1                  17.385975           55.229491\n",
      "2                   8.839400           33.085589\n",
      "3                   2.455434            7.314017\n",
      "4                   0.542857            0.814286\n",
      "5                   3.835931           12.952072\n"
     ]
    }
   ],
   "source": [
    "tempTopUsersRating = topUsersRating.groupby('movieId').sum()[['similarityIndex','weightedRating']]\n",
    "tempTopUsersRating.columns = ['sum_similarityIndex','sum_weightedRating']\n",
    "print(tempTopUsersRating.head())"
   ]
  },
  {
   "cell_type": "code",
   "execution_count": 70,
   "metadata": {},
   "outputs": [
    {
     "name": "stdout",
     "output_type": "stream",
     "text": [
      "         weighted average recommendation score  movieId\n",
      "movieId                                                \n",
      "1                                     3.176669        1\n",
      "2                                     3.742968        2\n",
      "3                                     2.978707        3\n",
      "4                                     1.500000        4\n",
      "5                                     3.376514        5\n",
      "6                                     3.995283        6\n",
      "7                                     2.890128        7\n",
      "9                                     1.500000        9\n",
      "10                                    3.478992       10\n",
      "11                                    3.209273       11\n"
     ]
    }
   ],
   "source": [
    "recommendation_df = pd.DataFrame()\n",
    "\n",
    "recommendation_df['weighted average recommendation score'] = tempTopUsersRating['sum_weightedRating']/tempTopUsersRating['sum_similarityIndex']\n",
    "recommendation_df['movieId'] = tempTopUsersRating.index\n",
    "print(recommendation_df.head(10))"
   ]
  },
  {
   "cell_type": "code",
   "execution_count": 71,
   "metadata": {},
   "outputs": [
    {
     "name": "stdout",
     "output_type": "stream",
     "text": [
      "         weighted average recommendation score  movieId\n",
      "movieId                                                \n",
      "85                                         5.0       85\n",
      "187                                        5.0      187\n",
      "456                                        5.0      456\n",
      "633                                        5.0      633\n",
      "945                                        5.0      945\n",
      "...                                        ...      ...\n",
      "162414                                     5.0   162414\n",
      "167064                                     5.0   167064\n",
      "179135                                     5.0   179135\n",
      "184245                                     5.0   184245\n",
      "187717                                     5.0   187717\n",
      "\n",
      "[82 rows x 2 columns]\n"
     ]
    }
   ],
   "source": [
    "recommendation_df = recommendation_df[recommendation_df['weighted average recommendation score'] == 5]\n",
    "print(recommendation_df)"
   ]
  },
  {
   "cell_type": "code",
   "execution_count": 72,
   "metadata": {},
   "outputs": [
    {
     "name": "stdout",
     "output_type": "stream",
     "text": [
      "      movieId                      title                  genres\n",
      "76         85         Angels and Insects           Drama|Romance\n",
      "158       187                 Party Girl                  Comedy\n",
      "397       456                      Fresh    Crime|Drama|Thriller\n",
      "536       633            Denise Calls Up                  Comedy\n",
      "725       945                    Top Hat  Comedy|Musical|Romance\n",
      "...       ...                        ...                     ...\n",
      "9367   162414                  Moonlight                   Drama\n",
      "9443   167064        I Am Not Your Negro             Documentary\n",
      "9634   179135             Blue Planet II             Documentary\n",
      "9688   184245           De platte jungle             Documentary\n",
      "9711   187717  Won't You Be My Neighbor?             Documentary\n",
      "\n",
      "[82 rows x 3 columns]\n"
     ]
    }
   ],
   "source": [
    "recommended_movie=movies_df.loc[movies_df['movieId'].isin(recommendation_df['movieId'])]\n",
    "\n",
    "recommended_movie=recommended_movie.loc[~recommended_movie.movieId.isin(userSubset['movieId'])]\n",
    "\n",
    "print(recommended_movie)"
   ]
  }
 ],
 "metadata": {
  "kernelspec": {
   "display_name": "Python 3",
   "language": "python",
   "name": "python3"
  },
  "language_info": {
   "codemirror_mode": {
    "name": "ipython",
    "version": 3
   },
   "file_extension": ".py",
   "mimetype": "text/x-python",
   "name": "python",
   "nbconvert_exporter": "python",
   "pygments_lexer": "ipython3",
   "version": "3.10.7"
  }
 },
 "nbformat": 4,
 "nbformat_minor": 2
}
